{
    "cells": [
        {
            "cell_type": "markdown",
            "metadata": {
                "collapsed": true
            },
            "source": "# The Battle of Neighborhoods"
        },
        {
            "cell_type": "markdown",
            "metadata": {},
            "source": "# # IBM Capstone Objectives:"
        },
        {
            "cell_type": "markdown",
            "metadata": {},
            "source": "This project, and associated files, were produced as to meet the final objectives of Coursera's IBM Applied Data Science Capstone Certificate program. The following sections are the objectives in meeting this criteria.\n\nSection 1: Clearly define a problem or an idea of your choice, where you would need to leverage the Foursquare location data to solve or execute. Remember that data science problems always target an audience and are meant to help a group of stakeholders solve a problem, so make sure that you explicitly describe your audience and why they would care about your problem.\nThis submission will eventually become your Introduction/Business Problem section in your final report. So I recommend that you push the report (having your Introduction/Business Problem section only for now) to your Github repository and submit a link to it.\n\nSection 2: Describe the data that you will be using to solve the problem or execute your idea. Remember that you will need to use the Foursquare location data to solve the problem or execute your idea. You can absolutely use other datasets in combination with the Foursquare location data. So make sure that you provide adequate explanation and discussion, with examples, of the data that you will be using, even if it is only Foursquare location data.\nThis submission will eventually become your Data section in your final report. So I recommend that you push the report (having your Data section) to your Github repository and submit a link to it. "
        },
        {
            "cell_type": "markdown",
            "metadata": {},
            "source": "# # Section 1: Project Background"
        },
        {
            "cell_type": "markdown",
            "metadata": {},
            "source": "    The greater North Augusta area, on part due to Fort Gordon\u2019s expansion, has seen significant growth throughout South Carolina\u2019s suburban and rural areas.\n\nThis project is designed to identifying facilities in the greater North Augusta area that transplants, moving to Fort Gordon within the North Augusta area, would otherwise remain unaware. \n\nAnalytic Purpose: Moving to North Augusta means doing a lot of research on housing prices around areas with access to neighborhood buisnesses. This project aims to provide comparative analysis between neighborhoods. This guide features median housing price, better school ratings, and area buisnesses, providing locational awareness to newcommers. "
        },
        {
            "cell_type": "markdown",
            "metadata": {},
            "source": "Problem:\n\nThe purpose of this project, is to suggest neighborhoods for newcomers. It attempts to provide social presence, connectivity to area buisness, and situational awareness to nearby buisness.\n1. Sorted list of houses in terms of housing prices.\n2. Sorted list of schools."
        },
        {
            "cell_type": "markdown",
            "metadata": {},
            "source": "Location:\n\nNorth Augusta, South Carolina is has and will have significant growth because of Fort Gordon's presence across the Savannah River, outside of Augusta, Georgia. Military transplants come throughout the United State, bringing diverse cultural  backgrounds."
        },
        {
            "cell_type": "markdown",
            "metadata": {},
            "source": "# #Section 2: Data Sources"
        },
        {
            "cell_type": "markdown",
            "metadata": {},
            "source": "## FourSquare API:\n\nThis project's data sources will include the FourSquare API, crowd sourcing information from around the world. This API allows for following roll-outs of this code to enable user location searches, expanding this analyitic for similar use globally.\n\nFourSquare's API will be leveraged as a locational data source. It can be accessed here: https://foursquare.com/"
        },
        {
            "cell_type": "markdown",
            "metadata": {},
            "source": "# #Work Flow:"
        },
        {
            "cell_type": "markdown",
            "metadata": {},
            "source": "FourSquaredata will be leveraged. Set at 100 results, at a radius of 500."
        },
        {
            "cell_type": "markdown",
            "metadata": {},
            "source": "# # Clustering:"
        },
        {
            "cell_type": "markdown",
            "metadata": {},
            "source": "Utilizing a Machine Learning, Clustering technique, comparison will be drawn from large US cities. Doing this, unsupervised Machine Learning, requires employing k-means clustering algorithm. "
        },
        {
            "cell_type": "markdown",
            "metadata": {},
            "source": "## Libraries Employed:"
        },
        {
            "cell_type": "markdown",
            "metadata": {},
            "source": "Pandas: for manipulating data frames.\nFolium: python data visualization library, used to visualize neighborhood clusters on an interactive map.\nScikit Learn: mathmatic library, employed for k-means clustering.\nJSON: library to handle JSON files.\nXML: seperates data, allowing XML data to be displayed in plain text.\nGeocoder: retrieves locational data.\nBeautifulSoup with Requests: library allows program to scrap http, handling online request.\nMatplotlib: Python plotting module."
        },
        {
            "cell_type": "markdown",
            "metadata": {},
            "source": ""
        }
    ],
    "metadata": {
        "kernelspec": {
            "display_name": "Python 3.6",
            "language": "python",
            "name": "python3"
        },
        "language_info": {
            "codemirror_mode": {
                "name": "ipython",
                "version": 3
            },
            "file_extension": ".py",
            "mimetype": "text/x-python",
            "name": "python",
            "nbconvert_exporter": "python",
            "pygments_lexer": "ipython3",
            "version": "3.6.9"
        }
    },
    "nbformat": 4,
    "nbformat_minor": 1
}